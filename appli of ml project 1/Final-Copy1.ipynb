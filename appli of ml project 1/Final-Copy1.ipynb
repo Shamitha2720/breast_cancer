{
 "cells": [
  {
   "cell_type": "code",
   "execution_count": 1,
   "id": "41882390",
   "metadata": {},
   "outputs": [],
   "source": [
    "import pandas as pd\n",
    "import numpy as np\n",
    "from sklearn import preprocessing\n",
    "from sklearn.model_selection import train_test_split\n",
    "from sklearn.svm import SVC\n",
    "from sklearn.preprocessing import StandardScaler\n",
    "from sklearn.metrics import accuracy_score\n",
    "from tensorflow.keras.models import Sequential\n",
    "from tensorflow.keras.layers import Dense\n",
    "import warnings\n",
    "\n"
   ]
  },
  {
   "cell_type": "code",
   "execution_count": 2,
   "id": "99d95b8b",
   "metadata": {},
   "outputs": [],
   "source": [
    "class BreastCancerModel:\n",
    "    def __init__(self, data_path='breast cancer.csv'):\n",
    "        self.data = pd.read_csv(data_path)\n",
    "        self.data = self.data.loc[:, ~self.data.columns.str.contains('^Unnamed')]\n",
    "        self.data = self.data.drop('id', axis=1)\n",
    "\n",
    "        label_encoder = preprocessing.LabelEncoder()\n",
    "        self.data['diagnosis'] = label_encoder.fit_transform(self.data['diagnosis'])\n",
    "\n",
    "        self.X = self.data.iloc[:, 1:31]\n",
    "        self.y = self.data.iloc[:, 0:1]\n",
    "\n",
    "        self.X_train, self.X_test, self.y_train, self.y_test = train_test_split(\n",
    "            self.X, self.y, test_size=0.25, random_state=42)\n",
    "\n",
    "    def scale_data(self):\n",
    "        scaler = StandardScaler()\n",
    "        self.X_train = scaler.fit_transform(self.X_train)\n",
    "        self.X_test = scaler.transform(self.X_test)"
   ]
  },
  {
   "cell_type": "code",
   "execution_count": 3,
   "id": "2cf99b56",
   "metadata": {},
   "outputs": [],
   "source": [
    "class SupportVectorMachine:\n",
    "    def __init__(self, X_train, y_train, X_test, y_test):\n",
    "        self.svm_model = SVC(kernel='linear')\n",
    "        self.X_train, self.y_train, self.X_test, self.y_test = X_train, y_train, X_test, y_test\n",
    "\n",
    "    def train(self):\n",
    "        self.svm_model.fit(self.X_train, self.y_train.values.ravel())\n",
    "\n",
    "    def predict(self):\n",
    "        return self.svm_model.predict(self.X_test)\n",
    "\n",
    "    def evaluate(self):\n",
    "        y_pred = self.predict()\n",
    "        accuracy = accuracy_score(self.y_test, y_pred)\n",
    "        print(\"SVM Accuracy:\", accuracy)\n"
   ]
  },
  {
   "cell_type": "code",
   "execution_count": null,
   "id": "d1155d9c",
   "metadata": {},
   "outputs": [],
   "source": []
  },
  {
   "cell_type": "code",
   "execution_count": 7,
   "id": "3cb117b4",
   "metadata": {},
   "outputs": [],
   "source": [
    "class LogisticRegressionModel:\n",
    "    def __init__(self, X_train, y_train, X_test, y_test):\n",
    "        self.X_train = np.column_stack((np.ones(X_train.shape[0]), X_train))\n",
    "        self.X_test = np.column_stack((np.ones(X_test.shape[0]), X_test))\n",
    "        self.y_train = y_train.values.ravel()\n",
    "        self.y_test = y_test.values.ravel()\n",
    "\n",
    "    @staticmethod\n",
    "    def sigmoid(z):\n",
    "        return 1 / (1 + np.exp(-z))\n",
    "\n",
    "    def cost_function(self, theta):\n",
    "        m = len(self.y_train)\n",
    "        h = self.sigmoid(self.X_train @ theta)\n",
    "        J = -1 / m * (self.y_train @ np.log(h) + (1 - self.y_train) @ np.log(1 - h))\n",
    "        return J\n",
    "\n",
    "    def gradient_descent(self, theta, alpha, num_iterations):\n",
    "        m = len(self.y_train)\n",
    "        J_history = []\n",
    "\n",
    "        for _ in range(num_iterations):\n",
    "            h = self.sigmoid(self.X_train @ theta)\n",
    "            gradient = self.X_train.T @ (h - self.y_train) / m\n",
    "            theta = theta - alpha * gradient\n",
    "            J_history.append(self.cost_function(theta))\n",
    "\n",
    "        return theta, J_history\n",
    "\n",
    "    def train(self):\n",
    "        alpha = 0.01\n",
    "        num_iterations = 1500\n",
    "        theta = np.random.rand(self.X_train.shape[1])\n",
    "        theta, _ = self.gradient_descent(theta, alpha, num_iterations)\n",
    "\n",
    "        y_pred = (self.sigmoid(self.X_test @ theta) >= 0.5).astype(int)\n",
    "        accuracy = accuracy_score(self.y_test, y_pred)\n",
    "        print(\"Logistic Regression Accuracy:\", accuracy)"
   ]
  },
  {
   "cell_type": "code",
   "execution_count": 8,
   "id": "a7254fc6",
   "metadata": {},
   "outputs": [],
   "source": [
    "class NeuralNetworkModel:\n",
    "    def __init__(self, X_train, y_train, X_test, y_test):\n",
    "        input_dim = X_train.shape[1]\n",
    "        self.classifier = Sequential()\n",
    "        self.classifier.add(Dense(units=6, kernel_initializer='uniform', activation='relu', input_dim=input_dim))\n",
    "        self.classifier.add(Dense(units=6, kernel_initializer='uniform', activation='relu'))\n",
    "        self.classifier.add(Dense(units=1, kernel_initializer='uniform', activation='sigmoid'))\n",
    "\n",
    "        self.classifier.compile(optimizer='adam', loss='binary_crossentropy', metrics=['accuracy'])\n",
    "        self.X_train, self.y_train, self.X_test, self.y_test = X_train, y_train, X_test, y_test\n",
    "\n",
    "    def train(self, epochs=100, batch_size=10):\n",
    "        self.classifier.fit(self.X_train, self.y_train, batch_size=batch_size, epochs=epochs, verbose=0)\n",
    "\n",
    "    def evaluate(self):\n",
    "        print('*' * 20)\n",
    "        train_score, train_acc = self.classifier.evaluate(self.X_train, self.y_train, batch_size=10)\n",
    "        print('Train score:', train_score)\n",
    "        print('Train accuracy:', train_acc)\n",
    "\n",
    "        y_pred = (self.classifier.predict(self.X_test) > 0.5).astype(int)\n",
    "        test_score, test_acc = self.classifier.evaluate(self.X_test, self.y_test, batch_size=10)\n",
    "        print('Test score:', test_score)\n",
    "        print('Test accuracy:', test_acc)"
   ]
  },
  {
   "cell_type": "code",
   "execution_count": 9,
   "id": "6a67ccfd",
   "metadata": {},
   "outputs": [
    {
     "name": "stdout",
     "output_type": "stream",
     "text": [
      "SVM Accuracy: 0.972027972027972\n",
      "Logistic Regression Accuracy: 0.965034965034965\n",
      "********************\n",
      "43/43 [==============================] - 0s 2ms/step - loss: 0.0066 - accuracy: 0.9977\n",
      "Train score: 0.006586557719856501\n",
      "Train accuracy: 0.9976525902748108\n",
      "5/5 [==============================] - 0s 2ms/step\n",
      "15/15 [==============================] - 0s 3ms/step - loss: 0.1609 - accuracy: 0.9790\n",
      "Test score: 0.16093645989894867\n",
      "Test accuracy: 0.9790209531784058\n"
     ]
    }
   ],
   "source": [
    "if __name__ == \"__main__\":\n",
    "    warnings.filterwarnings(\"ignore\")\n",
    "\n",
    "    breast_cancer = BreastCancerModel()\n",
    "    breast_cancer.scale_data()\n",
    "\n",
    "    svm_model = SupportVectorMachine(breast_cancer.X_train, breast_cancer.y_train,\n",
    "                                     breast_cancer.X_test, breast_cancer.y_test)\n",
    "    svm_model.train()\n",
    "    svm_model.evaluate()\n",
    "\n",
    "    logistic_regression = LogisticRegressionModel(breast_cancer.X_train, breast_cancer.y_train,\n",
    "                                                  breast_cancer.X_test, breast_cancer.y_test)\n",
    "    logistic_regression.train()\n",
    "\n",
    "    neural_network = NeuralNetworkModel(breast_cancer.X_train, breast_cancer.y_train,\n",
    "                                       breast_cancer.X_test, breast_cancer.y_test)\n",
    "    neural_network.train()\n",
    "    neural_network.evaluate()"
   ]
  },
  {
   "cell_type": "code",
   "execution_count": null,
   "id": "82502004",
   "metadata": {},
   "outputs": [],
   "source": []
  }
 ],
 "metadata": {
  "kernelspec": {
   "display_name": "Python 3 (ipykernel)",
   "language": "python",
   "name": "python3"
  },
  "language_info": {
   "codemirror_mode": {
    "name": "ipython",
    "version": 3
   },
   "file_extension": ".py",
   "mimetype": "text/x-python",
   "name": "python",
   "nbconvert_exporter": "python",
   "pygments_lexer": "ipython3",
   "version": "3.9.13"
  }
 },
 "nbformat": 4,
 "nbformat_minor": 5
}
